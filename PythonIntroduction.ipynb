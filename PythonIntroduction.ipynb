{
  "nbformat": 4,
  "nbformat_minor": 0,
  "metadata": {
    "colab": {
      "provenance": [],
      "authorship_tag": "ABX9TyMk5fFHzlDlk2YnebjQRr4Q",
      "include_colab_link": true
    },
    "kernelspec": {
      "name": "python3",
      "display_name": "Python 3"
    },
    "language_info": {
      "name": "python"
    }
  },
  "cells": [
    {
      "cell_type": "markdown",
      "metadata": {
        "id": "view-in-github",
        "colab_type": "text"
      },
      "source": [
        "<a href=\"https://colab.research.google.com/github/rosauraramos24/python_introduction/blob/main/PythonIntroduction.ipynb\" target=\"_parent\"><img src=\"https://colab.research.google.com/assets/colab-badge.svg\" alt=\"Open In Colab\"/></a>"
      ]
    },
    {
      "cell_type": "markdown",
      "source": [
        "# Mis Apuntes de Python\n",
        "### Fundamentos de Programacion 202420\n",
        "**Nombre:** Rosaura Ramos\n",
        "\n",
        "**_email:_** rosaura.ramos@upb.edu.co\n",
        "\n",
        "\n",
        "*Fecha de creación:* 20 de agosto, 2024\n",
        "\n",
        "_Excelsius !_\n",
        "\n",
        "\n",
        "\n",
        "\n",
        "\n"
      ],
      "metadata": {
        "id": "3oyorGJ3sd7x"
      }
    },
    {
      "cell_type": "code",
      "execution_count": 12,
      "metadata": {
        "colab": {
          "base_uri": "https://localhost:8080/"
        },
        "collapsed": true,
        "id": "bwPnSteIsIwN",
        "outputId": "de5d9dbd-f619-4ecb-869c-28641e4b180a"
      },
      "outputs": [
        {
          "output_type": "stream",
          "name": "stdout",
          "text": [
            "Hola mundo\n",
            "Hola, mi nombre es Rosaura ,tengo 18 años y soy de Necoclí\n",
            "12.5\n"
          ]
        }
      ],
      "source": [
        "# Mis primeros pasos con Python\n",
        "\n",
        "print(\"Hola mundo\")\n",
        "name = \"Rosaura\"\n",
        "age = 18\n",
        "city = \"Necoclí\"\n",
        "print(\"Hola, mi nombre es\", name, \",tengo\", age, \"años y soy de\" , city)\n",
        "# Numeros\n",
        "a = 10\n",
        "b = 2.5\n",
        "c = a + b\n",
        "print( c )"
      ]
    },
    {
      "cell_type": "code",
      "source": [
        "# Operaciones Matemáticas Básicas\n",
        "print(3 + 2) # Suma\n",
        "print(3 - 2) # Resta\n",
        "print(3 * 2) # Multiplicación\n",
        "print(3 / 2) # División\n",
        "print(3 % 2) # Módulo\n"
      ],
      "metadata": {
        "colab": {
          "base_uri": "https://localhost:8080/"
        },
        "id": "o6eshJxQzoKK",
        "outputId": "11b8201f-df8a-4d62-fb5e-a5ca5e1f2518"
      },
      "execution_count": 14,
      "outputs": [
        {
          "output_type": "stream",
          "name": "stdout",
          "text": [
            "5\n",
            "1\n",
            "6\n",
            "1.5\n",
            "1\n"
          ]
        }
      ]
    },
    {
      "cell_type": "code",
      "source": [
        "# Concatenación\n",
        "name = \"Rosaura\"\n",
        "lastname = \"Ramos\"\n",
        "fullname = name + \" \" + lastname\n",
        "print(fullname)\n"
      ],
      "metadata": {
        "colab": {
          "base_uri": "https://localhost:8080/"
        },
        "id": "tjqOjDqp1bvx",
        "outputId": "d7e03c69-0b90-4800-ee89-a261c6c727ef"
      },
      "execution_count": 15,
      "outputs": [
        {
          "output_type": "stream",
          "name": "stdout",
          "text": [
            "Rosaura Ramos\n"
          ]
        }
      ]
    }
  ]
}